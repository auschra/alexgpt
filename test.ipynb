{
 "cells": [
  {
   "cell_type": "code",
   "execution_count": 7,
   "metadata": {},
   "outputs": [
    {
     "ename": "ModuleNotFoundError",
     "evalue": "No module named 'tiktoken'",
     "output_type": "error",
     "traceback": [
      "\u001b[0;31m---------------------------------------------------------------------------\u001b[0m",
      "\u001b[0;31mModuleNotFoundError\u001b[0m                       Traceback (most recent call last)",
      "Cell \u001b[0;32mIn[7], line 6\u001b[0m\n\u001b[1;32m      4\u001b[0m \u001b[38;5;28;01mimport\u001b[39;00m \u001b[38;5;21;01mnumpy\u001b[39;00m \u001b[38;5;28;01mas\u001b[39;00m \u001b[38;5;21;01mnp\u001b[39;00m\n\u001b[1;32m      5\u001b[0m \u001b[38;5;28;01mimport\u001b[39;00m \u001b[38;5;21;01mmath\u001b[39;00m\n\u001b[0;32m----> 6\u001b[0m \u001b[38;5;28;01mimport\u001b[39;00m \u001b[38;5;21;01mtiktoken\u001b[39;00m \n",
      "\u001b[0;31mModuleNotFoundError\u001b[0m: No module named 'tiktoken'"
     ]
    }
   ],
   "source": [
    "import torch\n",
    "import torch.nn as nn\n",
    "import torch.nn.functional as F\n",
    "import numpy as np\n",
    "import math\n",
    "import tiktoken \n"
   ]
  },
  {
   "cell_type": "code",
   "execution_count": 3,
   "metadata": {},
   "outputs": [
    {
     "data": {
      "text/plain": [
       "<torch._C.Generator at 0x7f20f00e69f0>"
      ]
     },
     "execution_count": 3,
     "metadata": {},
     "output_type": "execute_result"
    }
   ],
   "source": [
    "torch.manual_seed(1337)"
   ]
  },
  {
   "cell_type": "code",
   "execution_count": 4,
   "metadata": {},
   "outputs": [
    {
     "ename": "NameError",
     "evalue": "name 'tiktoken' is not defined",
     "output_type": "error",
     "traceback": [
      "\u001b[0;31m---------------------------------------------------------------------------\u001b[0m",
      "\u001b[0;31mNameError\u001b[0m                                 Traceback (most recent call last)",
      "Cell \u001b[0;32mIn[4], line 3\u001b[0m\n\u001b[1;32m      1\u001b[0m string \u001b[38;5;241m=\u001b[39m \u001b[38;5;124m\"\u001b[39m\u001b[38;5;124mI went to the shops today to buy a back of milk\u001b[39m\u001b[38;5;124m\"\u001b[39m\n\u001b[0;32m----> 3\u001b[0m enc \u001b[38;5;241m=\u001b[39m \u001b[43mtiktoken\u001b[49m\u001b[38;5;241m.\u001b[39mget_encoding(\u001b[38;5;124m'\u001b[39m\u001b[38;5;124mgpt2\u001b[39m\u001b[38;5;124m'\u001b[39m)\n\u001b[1;32m      4\u001b[0m tokens \u001b[38;5;241m=\u001b[39m enc\u001b[38;5;241m.\u001b[39mencode(string)\n\u001b[1;32m      5\u001b[0m tokens \u001b[38;5;241m=\u001b[39m torch\u001b[38;5;241m.\u001b[39mtensor(tokens)\n",
      "\u001b[0;31mNameError\u001b[0m: name 'tiktoken' is not defined"
     ]
    }
   ],
   "source": [
    "string = \"I went to the shops today to buy a back of milk\"\n",
    "\n",
    "enc = tiktoken.get_encoding('gpt2')\n",
    "tokens = enc.encode(string)\n",
    "tokens = torch.tensor(tokens)\n",
    "\n",
    "x = tokens[:-1]\n",
    "y = tokens[1:]"
   ]
  },
  {
   "cell_type": "code",
   "execution_count": 9,
   "metadata": {},
   "outputs": [
    {
     "name": "stdout",
     "output_type": "stream",
     "text": [
      "x: tensor([[[ 0.0942, -0.8734, -0.2254,  1.8452,  1.6645],\n",
      "         [-0.2450, -1.5325,  1.1101, -0.6680, -0.3673]]])\n",
      "qtensor([[[ 0.7546, -0.5453,  0.5953,  0.4464,  0.5580],\n",
      "         [ 0.6405,  0.6410,  0.6809, -1.1272,  0.2000]]],\n",
      "       grad_fn=<SplitBackward0>)\n",
      "tensor([[[[ 0.7546, -0.5453,  0.5953,  0.4464,  0.5580]],\n",
      "\n",
      "         [[ 0.6405,  0.6410,  0.6809, -1.1272,  0.2000]]]],\n",
      "       grad_fn=<ViewBackward0>)\n",
      "torch.Size([1, 2, 1, 5])\n",
      "q:tensor([[[[ 0.7546, -0.5453,  0.5953,  0.4464,  0.5580],\n",
      "          [ 0.6405,  0.6410,  0.6809, -1.1272,  0.2000]]]],\n",
      "       grad_fn=<TransposeBackward0>)\n",
      "torch.Size([1, 1, 2, 5])\n",
      "k: tensor([[[[ 0.6260,  0.9029,  0.3953,  0.6671,  0.7866],\n",
      "          [ 0.2280, -0.5402, -0.7216,  0.2327,  0.1444]]]],\n",
      "       grad_fn=<TransposeBackward0>)\n",
      "torch.Size([1, 1, 2, 5])\n"
     ]
    },
    {
     "ename": "RuntimeError",
     "evalue": "The size of tensor a (2) must match the size of tensor b (5) at non-singleton dimension 3",
     "output_type": "error",
     "traceback": [
      "\u001b[0;31m---------------------------------------------------------------------------\u001b[0m",
      "\u001b[0;31mRuntimeError\u001b[0m                              Traceback (most recent call last)",
      "Cell \u001b[0;32mIn[9], line 30\u001b[0m\n\u001b[1;32m     26\u001b[0m \u001b[38;5;28mprint\u001b[39m(k\u001b[38;5;241m.\u001b[39mshape)\n\u001b[1;32m     28\u001b[0m att \u001b[38;5;241m=\u001b[39m (q \u001b[38;5;241m@\u001b[39m k\u001b[38;5;241m.\u001b[39mtranspose(\u001b[38;5;241m-\u001b[39m\u001b[38;5;241m2\u001b[39m, \u001b[38;5;241m-\u001b[39m\u001b[38;5;241m1\u001b[39m)) \u001b[38;5;241m*\u001b[39m (\u001b[38;5;241m1.0\u001b[39m \u001b[38;5;241m/\u001b[39m math\u001b[38;5;241m.\u001b[39msqrt(k\u001b[38;5;241m.\u001b[39msize(\u001b[38;5;241m-\u001b[39m\u001b[38;5;241m1\u001b[39m)))\n\u001b[0;32m---> 30\u001b[0m att \u001b[38;5;241m=\u001b[39m \u001b[43matt\u001b[49m\u001b[43m \u001b[49m\u001b[38;5;241;43m*\u001b[39;49m\u001b[43m \u001b[49m\u001b[43mv\u001b[49m\n",
      "\u001b[0;31mRuntimeError\u001b[0m: The size of tensor a (2) must match the size of tensor b (5) at non-singleton dimension 3"
     ]
    }
   ],
   "source": [
    "B = 1      # batches    \n",
    "T = 2       # context length    \n",
    "C = 5      #  m_embd   \n",
    "n_head = 1\n",
    "\n",
    "linear = nn.Linear(C, 3*C)\n",
    "def c_attn(x):\n",
    "    return linear(x)\n",
    "\n",
    "x = torch.randn(B, T, C)\n",
    "print(f\"x: {x}\")\n",
    "\n",
    "q, k, v = c_attn(x).split(C, dim=2)   #B, T, C\n",
    "print(f\"q{q}\")\n",
    "\n",
    "q = q.view(B, T, n_head, C // n_head)\n",
    "print(q)\n",
    "print(q.shape)\n",
    "\n",
    "q = q.view(B, T, n_head, C // n_head).transpose(1, 2)    # B, nh, T, hs, # split embed dim into multiple heads (head size)\n",
    "k = k.view(B, T, n_head, C // n_head).transpose(1, 2)    # B, nh, T, hs \n",
    "v = v.view(B, T, n_head, C // n_head).transpose(1, 2)    # B, nh, T, hs \n",
    "print(f\"q:{q}\")\n",
    "print(q.shape)\n",
    "print(f\"k: {k}\")\n",
    "print(k.shape)\n",
    " \n",
    "att = (q @ k.transpose(-2, -1)) * (1.0 / math.sqrt(k.size(-1)))\n",
    "\n",
    "att = att * v\n"
   ]
  },
  {
   "cell_type": "code",
   "execution_count": 36,
   "metadata": {},
   "outputs": [
    {
     "name": "stdout",
     "output_type": "stream",
     "text": [
      "tensor([[1.0000, 0.0000, 0.0000, 0.0000, 0.0000, 0.0000, 0.0000, 0.0000],\n",
      "        [0.5000, 0.5000, 0.0000, 0.0000, 0.0000, 0.0000, 0.0000, 0.0000],\n",
      "        [0.3333, 0.3333, 0.3333, 0.0000, 0.0000, 0.0000, 0.0000, 0.0000],\n",
      "        [0.2500, 0.2500, 0.2500, 0.2500, 0.0000, 0.0000, 0.0000, 0.0000],\n",
      "        [0.2000, 0.2000, 0.2000, 0.2000, 0.2000, 0.0000, 0.0000, 0.0000],\n",
      "        [0.1667, 0.1667, 0.1667, 0.1667, 0.1667, 0.1667, 0.0000, 0.0000],\n",
      "        [0.1429, 0.1429, 0.1429, 0.1429, 0.1429, 0.1429, 0.1429, 0.0000],\n",
      "        [0.1250, 0.1250, 0.1250, 0.1250, 0.1250, 0.1250, 0.1250, 0.1250]])\n",
      "torch.Size([1, 8, 2])\n"
     ]
    }
   ],
   "source": [
    "B = 1   # batches\n",
    "T = 8  # context length\n",
    "C = 2   #  m_embd\n",
    "\n",
    "x = torch.randn(B, T, C)        # B, T, C\n",
    "tril = torch.tril(torch.ones((T, T)))   # T, T\n",
    "wei = torch.zeros((T, T))             # dummy weights\n",
    "wei = wei.masked_fill(tril== 0, float('-inf'))\n",
    "wei = F.softmax(wei, dim=-1)\n",
    "print(wei)\n",
    "out = wei @ x\n",
    "print(out.shape)"
   ]
  },
  {
   "cell_type": "code",
   "execution_count": null,
   "metadata": {},
   "outputs": [],
   "source": [
    "dropout = 0.2\n",
    "\n",
    "\n",
    "class CausalAttention:\n",
    "    def __init__(self, config):\n",
    "        super().__init__()\n",
    "        assert config.n_embd % config.n_head == 0       # what does this do\n",
    "        # q, k, v for all heads in a batch\n",
    "        self.c_attn = nn.Linear(config.n_embd, 3 * config.n_head)   # (n_embd, 3 * n_head) 3 for q, k, v\n",
    "        # out \n",
    "        self.c_proj = nn.Linear(config.n_embd, config.n_embd)       # (n_emnd, n_embd) # what does this do\n",
    "\n",
    "        # regularisation \n",
    "        self.attn_dropout = nn.Dropout(dropout)\n",
    "        self.resid_dropout = nn.Dropout(dropout)\n",
    "\n",
    "        # causal mask -> only attend to previous \n",
    "        self.q = query\n",
    "        self.k = k \n",
    "        self.v = value \n",
    "\n",
    "        # dot product queries and keys\n",
    "        att = self.q * K.transpose(-1)  # which dimension transposing \n",
    "        \n",
    "        # * dk**-0.5\n",
    "        # softmax\n",
    "        # * v\n",
    "\n",
    "\n",
    "    # masking to prevent looking at forward tokens \n"
   ]
  }
 ],
 "metadata": {
  "kernelspec": {
   "display_name": "venv",
   "language": "python",
   "name": "python3"
  },
  "language_info": {
   "codemirror_mode": {
    "name": "ipython",
    "version": 3
   },
   "file_extension": ".py",
   "mimetype": "text/x-python",
   "name": "python",
   "nbconvert_exporter": "python",
   "pygments_lexer": "ipython3",
   "version": "3.12.3"
  }
 },
 "nbformat": 4,
 "nbformat_minor": 2
}
